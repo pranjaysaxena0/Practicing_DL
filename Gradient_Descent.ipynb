{
  "nbformat": 4,
  "nbformat_minor": 0,
  "metadata": {
    "colab": {
      "provenance": []
    },
    "kernelspec": {
      "name": "python3",
      "display_name": "Python 3"
    },
    "language_info": {
      "name": "python"
    }
  },
  "cells": [
    {
      "cell_type": "code",
      "execution_count": null,
      "metadata": {
        "id": "RgmOhme8aJlL"
      },
      "outputs": [],
      "source": [
        "import pandas as pd\n",
        "import numpy as np\n",
        "from matplotlib import pyplot as plt\n",
        "%matplotlib inline"
      ]
    },
    {
      "cell_type": "code",
      "source": [
        "#Load dataset\n",
        "df=pd.read_csv('/content/housing.csv')\n",
        "df.isnull().sum()"
      ],
      "metadata": {
        "colab": {
          "base_uri": "https://localhost:8080/",
          "height": 241
        },
        "id": "bSzaqKTHackc",
        "outputId": "2a187bbd-1d4c-4c83-b283-95837695086d"
      },
      "execution_count": null,
      "outputs": [
        {
          "output_type": "execute_result",
          "data": {
            "text/plain": [
              "housing_median_age    0\n",
              "total_rooms           0\n",
              "population            0\n",
              "households            0\n",
              "median_house_value    0\n",
              "dtype: int64"
            ],
            "text/html": [
              "<div>\n",
              "<style scoped>\n",
              "    .dataframe tbody tr th:only-of-type {\n",
              "        vertical-align: middle;\n",
              "    }\n",
              "\n",
              "    .dataframe tbody tr th {\n",
              "        vertical-align: top;\n",
              "    }\n",
              "\n",
              "    .dataframe thead th {\n",
              "        text-align: right;\n",
              "    }\n",
              "</style>\n",
              "<table border=\"1\" class=\"dataframe\">\n",
              "  <thead>\n",
              "    <tr style=\"text-align: right;\">\n",
              "      <th></th>\n",
              "      <th>0</th>\n",
              "    </tr>\n",
              "  </thead>\n",
              "  <tbody>\n",
              "    <tr>\n",
              "      <th>housing_median_age</th>\n",
              "      <td>0</td>\n",
              "    </tr>\n",
              "    <tr>\n",
              "      <th>total_rooms</th>\n",
              "      <td>0</td>\n",
              "    </tr>\n",
              "    <tr>\n",
              "      <th>population</th>\n",
              "      <td>0</td>\n",
              "    </tr>\n",
              "    <tr>\n",
              "      <th>households</th>\n",
              "      <td>0</td>\n",
              "    </tr>\n",
              "    <tr>\n",
              "      <th>median_house_value</th>\n",
              "      <td>0</td>\n",
              "    </tr>\n",
              "  </tbody>\n",
              "</table>\n",
              "</div><br><label><b>dtype:</b> int64</label>"
            ]
          },
          "metadata": {},
          "execution_count": 30
        }
      ]
    },
    {
      "cell_type": "code",
      "source": [
        "from sklearn import preprocessing\n",
        "sx = preprocessing.MinMaxScaler()\n",
        "sy = preprocessing.MinMaxScaler()\n",
        "\n",
        "scaled_X = sx.fit_transform(df.drop(['median_house_value'],axis='columns'))\n",
        "scaled_y = sy.fit_transform(df['median_house_value'].values.reshape(df.shape[0],1))\n",
        "scaled_X"
      ],
      "metadata": {
        "colab": {
          "base_uri": "https://localhost:8080/"
        },
        "id": "NOpFl2Hhatm4",
        "outputId": "29688554-8c83-4e4b-deb7-b470c0c062c7"
      },
      "execution_count": null,
      "outputs": [
        {
          "output_type": "execute_result",
          "data": {
            "text/plain": [
              "array([[0.78431373, 0.02233074, 0.00894083, 0.02055583],\n",
              "       [0.39215686, 0.18050257, 0.0672104 , 0.18697583],\n",
              "       [1.        , 0.03726029, 0.01381765, 0.02894261],\n",
              "       ...,\n",
              "       [0.31372549, 0.05727657, 0.0281398 , 0.07104095],\n",
              "       [0.33333333, 0.04725571, 0.02068444, 0.05722743],\n",
              "       [0.29411765, 0.07078183, 0.03879032, 0.08699227]])"
            ]
          },
          "metadata": {},
          "execution_count": 31
        }
      ]
    },
    {
      "cell_type": "code",
      "source": [
        "scaled_y"
      ],
      "metadata": {
        "colab": {
          "base_uri": "https://localhost:8080/"
        },
        "id": "mOKL87vwbZ9q",
        "outputId": "c81abcb5-da82-4f17-bbb2-bd42889e539a"
      },
      "execution_count": null,
      "outputs": [
        {
          "output_type": "execute_result",
          "data": {
            "text/plain": [
              "array([[0.90226638],\n",
              "       [0.70824656],\n",
              "       [0.69505074],\n",
              "       ...,\n",
              "       [0.15938285],\n",
              "       [0.14371281],\n",
              "       [0.15340349]])"
            ]
          },
          "metadata": {},
          "execution_count": 32
        }
      ]
    },
    {
      "cell_type": "code",
      "source": [
        "#Reshaping 2D array to 1D\n",
        "scaled_y=scaled_y.reshape(scaled_y.shape[0])\n",
        "scaled_y"
      ],
      "metadata": {
        "colab": {
          "base_uri": "https://localhost:8080/"
        },
        "id": "ytzIe0Z0bpa2",
        "outputId": "e376103b-f41c-4b2a-a81e-de54fa8561c4"
      },
      "execution_count": null,
      "outputs": [
        {
          "output_type": "execute_result",
          "data": {
            "text/plain": [
              "array([0.90226638, 0.70824656, 0.69505074, ..., 0.15938285, 0.14371281,\n",
              "       0.15340349])"
            ]
          },
          "metadata": {},
          "execution_count": 33
        }
      ]
    },
    {
      "cell_type": "markdown",
      "source": [
        "MINI BATCH GRADIENT DESCENT"
      ],
      "metadata": {
        "id": "XZ_XdDLTb7uj"
      }
    },
    {
      "cell_type": "code",
      "source": [
        "scaled_X.shape[0]"
      ],
      "metadata": {
        "colab": {
          "base_uri": "https://localhost:8080/"
        },
        "id": "Hgn6m0HIb3Ji",
        "outputId": "ae2588ee-3e1c-4c78-8143-633eee41bd58"
      },
      "execution_count": null,
      "outputs": [
        {
          "output_type": "execute_result",
          "data": {
            "text/plain": [
              "20640"
            ]
          },
          "metadata": {},
          "execution_count": 34
        }
      ]
    },
    {
      "cell_type": "code",
      "source": [
        "def batch_gradient_descent(X, y_true, epochs, learning_rate = 0.01):\n",
        " number_of_features = X.shape[1]\n",
        " # numpy array with 1 row and columns equal to number of features.\n",
        "\n",
        " # our case number_of_features = 2 (area, bedroom)\n",
        " w = np.ones(shape=(number_of_features),dtype = int)\n",
        " b = 0\n",
        " total_samples = X.shape[0] # number of rows in X\n",
        "\n",
        " cost_list = []\n",
        " epoch_list = []\n",
        "\n",
        " for i in range(epochs):\n",
        "  y_predicted = np.dot(w, X.T) + b\n",
        "  w_grad = -(2/total_samples)*(X.T.dot(y_true-y_predicted))\n",
        "  b_grad = -(2/total_samples)*np.sum(y_true-y_predicted)\n",
        "\n",
        "  w = w - learning_rate * w_grad\n",
        "  b = b - learning_rate * b_grad\n",
        "\n",
        "  cost = np.mean(np.square(y_true-y_predicted)) # MSE (Mean Squared Error)\n",
        "\n",
        "  if i%10==0:\n",
        "    cost_list.append(cost)\n",
        "    epoch_list.append(i)\n",
        "\n",
        " return w, b, cost, cost_list, epoch_list"
      ],
      "metadata": {
        "id": "K4YJa0CccCaU"
      },
      "execution_count": null,
      "outputs": []
    },
    {
      "cell_type": "code",
      "source": [
        "w, b, cost, cost_list, epoch_list = batch_gradient_descent(scaled_X, scaled_y, 50000, 0.01)"
      ],
      "metadata": {
        "id": "QUZKNUx4i5Rh"
      },
      "execution_count": null,
      "outputs": []
    },
    {
      "cell_type": "code",
      "source": [
        "#Now plot epoch vs cost graph to see how cost reduces as number of epoch increases\n",
        "plt.xlabel(\"epoch\")\n",
        "plt.ylabel(\"cost\")\n",
        "plt.plot(epoch_list,cost_list)"
      ],
      "metadata": {
        "colab": {
          "base_uri": "https://localhost:8080/",
          "height": 466
        },
        "id": "oVRvzn2GhP_p",
        "outputId": "47107c02-5cde-4600-a02c-e9db7379d653"
      },
      "execution_count": null,
      "outputs": [
        {
          "output_type": "execute_result",
          "data": {
            "text/plain": [
              "[<matplotlib.lines.Line2D at 0x7821a2422470>]"
            ]
          },
          "metadata": {},
          "execution_count": 60
        },
        {
          "output_type": "display_data",
          "data": {
            "text/plain": [
              "<Figure size 640x480 with 1 Axes>"
            ],
            "image/png": "[encoded data removed]"
          },
          "metadata": {}
        }
      ]
    },
    {
      "cell_type": "code",
      "source": [
        "def predict(area, bedrooms, total, population,w,b):\n",
        "  scaled_X = sx.transform([[area, bedrooms, total, population]])[0]\n",
        "  scaled_price = w[0]*scaled_X[0] + w[1]*scaled_X[1] + b\n",
        "  return sy.inverse_transform([[scaled_price]])[0][0]"
      ],
      "metadata": {
        "id": "ygZ1vkzZh6-r"
      },
      "execution_count": null,
      "outputs": []
    },
    {
      "cell_type": "code",
      "source": [
        "column_averages = df.mean()\n",
        "column_averages"
      ],
      "metadata": {
        "colab": {
          "base_uri": "https://localhost:8080/",
          "height": 241
        },
        "id": "sDeIVFTPmUMP",
        "outputId": "efb39abc-c0d5-4ec8-d559-944e4b110860"
      },
      "execution_count": null,
      "outputs": [
        {
          "output_type": "execute_result",
          "data": {
            "text/plain": [
              "housing_median_age        28.639486\n",
              "total_rooms             2635.763081\n",
              "population              1425.476744\n",
              "households               499.539680\n",
              "median_house_value    206855.816909\n",
              "dtype: float64"
            ],
            "text/html": [
              "<div>\n",
              "<style scoped>\n",
              "    .dataframe tbody tr th:only-of-type {\n",
              "        vertical-align: middle;\n",
              "    }\n",
              "\n",
              "    .dataframe tbody tr th {\n",
              "        vertical-align: top;\n",
              "    }\n",
              "\n",
              "    .dataframe thead th {\n",
              "        text-align: right;\n",
              "    }\n",
              "</style>\n",
              "<table border=\"1\" class=\"dataframe\">\n",
              "  <thead>\n",
              "    <tr style=\"text-align: right;\">\n",
              "      <th></th>\n",
              "      <th>0</th>\n",
              "    </tr>\n",
              "  </thead>\n",
              "  <tbody>\n",
              "    <tr>\n",
              "      <th>housing_median_age</th>\n",
              "      <td>28.639486</td>\n",
              "    </tr>\n",
              "    <tr>\n",
              "      <th>total_rooms</th>\n",
              "      <td>2635.763081</td>\n",
              "    </tr>\n",
              "    <tr>\n",
              "      <th>population</th>\n",
              "      <td>1425.476744</td>\n",
              "    </tr>\n",
              "    <tr>\n",
              "      <th>households</th>\n",
              "      <td>499.539680</td>\n",
              "    </tr>\n",
              "    <tr>\n",
              "      <th>median_house_value</th>\n",
              "      <td>206855.816909</td>\n",
              "    </tr>\n",
              "  </tbody>\n",
              "</table>\n",
              "</div><br><label><b>dtype:</b> float64</label>"
            ]
          },
          "metadata": {},
          "execution_count": 70
        }
      ]
    },
    {
      "cell_type": "code",
      "source": [
        "predict(2600,4,1,column_averages[3],w,b)"
      ],
      "metadata": {
        "colab": {
          "base_uri": "https://localhost:8080/"
        },
        "id": "6TyLINP_kOLP",
        "outputId": "cb2c407d-d240-49a3-fe99-13a34813491f"
      },
      "execution_count": null,
      "outputs": [
        {
          "output_type": "stream",
          "name": "stderr",
          "text": [
            "<ipython-input-77-ea1e63a8e892>:1: FutureWarning: Series.__getitem__ treating keys as positions is deprecated. In a future version, integer keys will always be treated as labels (consistent with DataFrame behavior). To access a value by position, use `ser.iloc[pos]`\n",
            "  predict(2600,4,1,column_averages[3],w,b)\n",
            "/usr/local/lib/python3.10/dist-packages/sklearn/base.py:493: UserWarning: X does not have valid feature names, but MinMaxScaler was fitted with feature names\n",
            "  warnings.warn(\n"
          ]
        },
        {
          "output_type": "execute_result",
          "data": {
            "text/plain": [
              "3978036.561854209"
            ]
          },
          "metadata": {},
          "execution_count": 77
        }
      ]
    },
    {
      "cell_type": "code",
      "source": [
        "predict(1000,2,1,499.539680,w,b)"
      ],
      "metadata": {
        "colab": {
          "base_uri": "https://localhost:8080/"
        },
        "id": "XAHKOEUdkSnG",
        "outputId": "edf80b5c-8be8-497f-96bb-6118173de949"
      },
      "execution_count": null,
      "outputs": [
        {
          "output_type": "stream",
          "name": "stderr",
          "text": [
            "/usr/local/lib/python3.10/dist-packages/sklearn/base.py:493: UserWarning: X does not have valid feature names, but MinMaxScaler was fitted with feature names\n",
            "  warnings.warn(\n"
          ]
        },
        {
          "output_type": "execute_result",
          "data": {
            "text/plain": [
              "1619598.5148492048"
            ]
          },
          "metadata": {},
          "execution_count": 72
        }
      ]
    },
    {
      "cell_type": "code",
      "source": [
        "predict(1500,3,1,1,w,b)"
      ],
      "metadata": {
        "colab": {
          "base_uri": "https://localhost:8080/"
        },
        "id": "RJFD6bTQkwgo",
        "outputId": "4bc1c92f-da06-4800-ecb0-ef84c05531c9"
      },
      "execution_count": null,
      "outputs": [
        {
          "output_type": "stream",
          "name": "stderr",
          "text": [
            "/usr/local/lib/python3.10/dist-packages/sklearn/base.py:493: UserWarning: X does not have valid feature names, but MinMaxScaler was fitted with feature names\n",
            "  warnings.warn(\n"
          ]
        },
        {
          "output_type": "execute_result",
          "data": {
            "text/plain": [
              "2356614.5786729"
            ]
          },
          "metadata": {},
          "execution_count": 64
        }
      ]
    },
    {
      "cell_type": "code",
      "source": [
        "import random\n",
        "random.randint(0,6)"
      ],
      "metadata": {
        "colab": {
          "base_uri": "https://localhost:8080/"
        },
        "id": "HxQMwCPqkyfA",
        "outputId": "ab7c4335-b5e3-4732-866f-556c9f28d42b"
      },
      "execution_count": null,
      "outputs": [
        {
          "output_type": "execute_result",
          "data": {
            "text/plain": [
              "3"
            ]
          },
          "metadata": {},
          "execution_count": 65
        }
      ]
    },
    {
      "cell_type": "code",
      "source": [
        "def stochastic_gradient_descent(X, y_true, epochs, learning_rate =0.01):\n",
        "  number_of_features = X.shape[1]\n",
        "  w = np.ones(shape=(number_of_features))\n",
        "  b = 0\n",
        "  total_samples = X.shape[0]\n",
        "\n",
        "  cost_list = []\n",
        "  epoch_list = []\n",
        "\n",
        "  for i in range(epochs):\n",
        "    random_index = random.randint(0,total_samples-1)\n",
        "    sample_x = X[random_index]\n",
        "    sample_y = y_true[random_index]\n",
        "\n",
        "    y_predicted = np.dot(w, sample_x.T) + b\n",
        "    w_grad = -(2/total_samples)*(sample_x.T.dot(sample_y-y_predicted))\n",
        "    b_grad = -(2/total_samples)*(sample_y-y_predicted)\n",
        "\n",
        "    w = w - learning_rate * w_grad\n",
        "    b = b - learning_rate * b_grad\n",
        "\n",
        "    cost = np.square(sample_y-y_predicted) # MSE (Mean Squared Error)\n",
        "\n",
        "    if i%10==0:\n",
        "      cost_list.append(cost)\n",
        "      epoch_list.append(i)\n",
        "  return w, b, cost, cost_list, epoch_list"
      ],
      "metadata": {
        "id": "ybDJUMPJk4fR"
      },
      "execution_count": null,
      "outputs": []
    },
    {
      "cell_type": "code",
      "source": [
        "w_sgd, b_sgd, cost_sgd, cost_list_sgd, epoch_list_sgd = stochastic_gradient_descent(scaled_X,scaled_y.reshape(scaled_y.shape[0],),10000)\n",
        "w_sgd, b_sgd, cost_sgd"
      ],
      "metadata": {
        "colab": {
          "base_uri": "https://localhost:8080/"
        },
        "id": "pbxccBeCoTfJ",
        "outputId": "3137c1b0-2398-490e-b8ca-675379fb06f3"
      },
      "execution_count": null,
      "outputs": [
        {
          "output_type": "execute_result",
          "data": {
            "text/plain": [
              "(array([0.99781482, 0.99977562, 0.99985239, 0.99970804]),\n",
              " -0.0032320586957706354,\n",
              " 0.0725389161633643)"
            ]
          },
          "metadata": {},
          "execution_count": 86
        }
      ]
    },
    {
      "cell_type": "code",
      "source": [
        "w , b"
      ],
      "metadata": {
        "colab": {
          "base_uri": "https://localhost:8080/"
        },
        "id": "epG4M4ouoiHJ",
        "outputId": "98dc7254-5c4e-4fc9-fffc-16f944d46ef3"
      },
      "execution_count": null,
      "outputs": [
        {
          "output_type": "execute_result",
          "data": {
            "text/plain": [
              "(array([ 0.15499834,  0.90236673, -0.20627478, -0.15783587]),\n",
              " 0.2722950815023028)"
            ]
          },
          "metadata": {},
          "execution_count": 87
        }
      ]
    },
    {
      "cell_type": "code",
      "source": [
        "plt.xlabel(\"epoch\")\n",
        "plt.ylabel(\"cost\")\n",
        "plt.plot(epoch_list_sgd,cost_list_sgd)"
      ],
      "metadata": {
        "colab": {
          "base_uri": "https://localhost:8080/",
          "height": 466
        },
        "id": "DEVTQalxo656",
        "outputId": "8b0472fc-3467-4821-a921-e735324b845c"
      },
      "execution_count": null,
      "outputs": [
        {
          "output_type": "execute_result",
          "data": {
            "text/plain": [
              "[<matplotlib.lines.Line2D at 0x7821a21a1870>]"
            ]
          },
          "metadata": {},
          "execution_count": 88
        },
        {
          "output_type": "display_data",
          "data": {
            "text/plain": [
              "<Figure size 640x480 with 1 Axes>"
            ],
            "image/png": "[encoded data removed]"
          },
          "metadata": {}
        }
      ]
    },
    {
      "cell_type": "code",
      "source": [
        "predict(2600,4,1,1,w_sgd, b_sgd)"
      ],
      "metadata": {
        "colab": {
          "base_uri": "https://localhost:8080/"
        },
        "id": "HxAajjeqo-bD",
        "outputId": "9afbded7-1f5f-40d0-9573-fbb1661d2d20"
      },
      "execution_count": null,
      "outputs": [
        {
          "output_type": "stream",
          "name": "stderr",
          "text": [
            "/usr/local/lib/python3.10/dist-packages/sklearn/base.py:493: UserWarning: X does not have valid feature names, but MinMaxScaler was fitted with feature names\n",
            "  warnings.warn(\n"
          ]
        },
        {
          "output_type": "execute_result",
          "data": {
            "text/plain": [
              "24675529.270542845"
            ]
          },
          "metadata": {},
          "execution_count": 89
        }
      ]
    },
    {
      "cell_type": "code",
      "source": [
        "predict(1000,2,1,1,w_sgd, b_sgd)"
      ],
      "metadata": {
        "colab": {
          "base_uri": "https://localhost:8080/"
        },
        "id": "MI6htlTIpBGD",
        "outputId": "1146749f-07bc-4536-8c91-32b045ab19e9"
      },
      "execution_count": null,
      "outputs": [
        {
          "output_type": "stream",
          "name": "stderr",
          "text": [
            "/usr/local/lib/python3.10/dist-packages/sklearn/base.py:493: UserWarning: X does not have valid feature names, but MinMaxScaler was fitted with feature names\n",
            "  warnings.warn(\n"
          ]
        },
        {
          "output_type": "execute_result",
          "data": {
            "text/plain": [
              "9493004.776008645"
            ]
          },
          "metadata": {},
          "execution_count": 90
        }
      ]
    },
    {
      "cell_type": "code",
      "source": [],
      "metadata": {
        "id": "070WnUlnpEmD"
      },
      "execution_count": null,
      "outputs": []
    }
  ]
}
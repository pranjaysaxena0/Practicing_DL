{
  "nbformat": 4,
  "nbformat_minor": 0,
  "metadata": {
    "colab": {
      "provenance": []
    },
    "kernelspec": {
      "name": "python3",
      "display_name": "Python 3"
    },
    "language_info": {
      "name": "python"
    }
  },
  "cells": [
    {
      "cell_type": "code",
      "execution_count": null,
      "metadata": {
        "id": "ywGTCMECMCro"
      },
      "outputs": [],
      "source": [
        "import numpy as np"
      ]
    },
    {
      "cell_type": "code",
      "source": [
        "X=np.array([1,2])"
      ],
      "metadata": {
        "id": "ekb5UHBeMNZA"
      },
      "execution_count": null,
      "outputs": []
    },
    {
      "cell_type": "code",
      "source": [
        "x1_w=np.array([0.1,0.5])\n",
        "x2_w=np.array([0.2,0.6])\n",
        "x3_w=np.array([0.3])\n",
        "x4_w=np.array([0.4])"
      ],
      "metadata": {
        "id": "ANJ5d82tMsGh"
      },
      "execution_count": null,
      "outputs": []
    },
    {
      "cell_type": "code",
      "source": [
        "def sigmoid(x):\n",
        "    return 1/(1+np.exp(-x))\n",
        "def relu(x):\n",
        "    return np.maximum(0,x)"
      ],
      "metadata": {
        "id": "4PNsGBkJW-o6"
      },
      "execution_count": null,
      "outputs": []
    },
    {
      "cell_type": "code",
      "source": [
        "x3=sigmoid(np.dot(X,np.array([x1_w[0],x2_w[0]])))\n",
        "x4=sigmoid(np.dot(X,np.array([x1_w[1],x2_w[1]])))"
      ],
      "metadata": {
        "id": "ivhUzh7KNZlY"
      },
      "execution_count": null,
      "outputs": []
    },
    {
      "cell_type": "code",
      "source": [
        "print(x3,x4)"
      ],
      "metadata": {
        "colab": {
          "base_uri": "https://localhost:8080/"
        },
        "id": "tYrpbdN-Rke-",
        "outputId": "ef53cb52-2f31-41db-ed89-7bae499cfbac"
      },
      "execution_count": null,
      "outputs": [
        {
          "output_type": "stream",
          "name": "stdout",
          "text": [
            "0.6224593312018546 0.8455347349164652\n"
          ]
        }
      ]
    },
    {
      "cell_type": "code",
      "source": [
        "H=np.array([x3,x4])"
      ],
      "metadata": {
        "id": "nQ97TZPuQiaa"
      },
      "execution_count": null,
      "outputs": []
    },
    {
      "cell_type": "code",
      "source": [
        "y=relu(np.dot(H,np.array([x3_w,x4_w])))"
      ],
      "metadata": {
        "id": "55wWg8UoNprD"
      },
      "execution_count": null,
      "outputs": []
    },
    {
      "cell_type": "code",
      "source": [
        "print(y)"
      ],
      "metadata": {
        "colab": {
          "base_uri": "https://localhost:8080/"
        },
        "id": "bPmq_jb9OcYC",
        "outputId": "0d373327-58b1-450a-b3b2-0aac259b5d88"
      },
      "execution_count": null,
      "outputs": [
        {
          "output_type": "stream",
          "name": "stdout",
          "text": [
            "[0.52495169]\n"
          ]
        }
      ]
    },
    {
      "cell_type": "code",
      "source": [
        "def error(y):\n",
        "    y_t=1\n",
        "    return y-y_t"
      ],
      "metadata": {
        "id": "DowUaOujOeSx"
      },
      "execution_count": null,
      "outputs": []
    },
    {
      "cell_type": "code",
      "source": [],
      "metadata": {
        "id": "ljZz8IzsUgQT"
      },
      "execution_count": null,
      "outputs": []
    }
  ]
}
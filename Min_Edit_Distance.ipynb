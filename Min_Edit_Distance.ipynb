{
  "nbformat": 4,
  "nbformat_minor": 0,
  "metadata": {
    "colab": {
      "provenance": []
    },
    "kernelspec": {
      "name": "python3",
      "display_name": "Python 3"
    },
    "language_info": {
      "name": "python"
    }
  },
  "cells": [
    {
      "cell_type": "code",
      "execution_count": null,
      "metadata": {
        "id": "cOJNwp12NXA-"
      },
      "outputs": [],
      "source": [
        "def edit_distance(s1, s2):\n",
        "  m, n = len(s1), len(s2)\n",
        "  dp = [[0 for j in range(n+1)] for i in range(m+1)]\n",
        "  for i in range(m+1):\n",
        "    dp[i][0] = i\n",
        "  for j in range(n+1):\n",
        "    dp[0][j] = j\n",
        "  for i in range(1,m+1):\n",
        "    for j in range(1,n+1):\n",
        "      if s1[i-1] == s2[j-1]:\n",
        "        dp[i][j] = dp[i-1][j-1]\n",
        "      else:\n",
        "        dp[i][j] = 1 + min(dp[i-1][j], dp[i][j-1], dp[i-1][j-1])\n",
        "  i = m;j = n\n",
        "  operation = []\n",
        "  while(i != 0 and j != 0):\n",
        "    if s2[i-1] == s1[j-1]:\n",
        "      i -= 1\n",
        "      j -= 1\n",
        "    else:\n",
        "      #for diagonal\n",
        "      if dp[i][j] == dp[i-1][j-1] + 2:\n",
        "        operation.append(\"substitution\",s1[j-1],s2[i-1])\n",
        "        i -= 1\n",
        "        j -= 1\n",
        "      #for upper_element\n",
        "      elif dp[i][j] == dp[i-1][j] + 1:\n",
        "        operation.append(\"insertion\",s2[j-1])\n",
        "        i -= 1\n",
        "      #for left_element\n",
        "      elif dp[i][j] == dp[i][j-1] + 1:\n",
        "        operation.append(\"deletion\",s1[i-1])\n",
        "        j -= 1\n",
        "  while(i != 0):\n",
        "    operation.append(\"insertion\",s2[i-1])\n",
        "    i -= 1\n",
        "  while(j != 0):\n",
        "    operation.append(\"deletion\",s1[j-1])\n",
        "    j -= 1\n",
        "  operation.reverse()\n",
        "  return str(dp[m][n]), operation"
      ]
    },
    {
      "cell_type": "code",
      "source": [
        "s1 = 'kitten'\n",
        "s2 = 'sitting'"
      ],
      "metadata": {
        "id": "1t5aN0fKO_KJ"
      },
      "execution_count": null,
      "outputs": []
    },
    {
      "cell_type": "code",
      "source": [
        "s1 = 'rosettacode'\n",
        "s2 = 'raisethysword'"
      ],
      "metadata": {
        "colab": {
          "base_uri": "https://localhost:8080/"
        },
        "id": "xFoKQmNUPKSu",
        "outputId": "f03896ee-233e-4407-a96f-5d4fe95b76f8"
      },
      "execution_count": null,
      "outputs": [
        {
          "output_type": "stream",
          "name": "stdout",
          "text": [
            "8\n"
          ]
        }
      ]
    },
    {
      "cell_type": "code",
      "source": [
        "s1 = input(\"Enter initial text:\").strip()\n",
        "s2 = input(\"Enter final text:\").strip()"
      ],
      "metadata": {
        "colab": {
          "base_uri": "https://localhost:8080/"
        },
        "id": "vjr1mM_FPef9",
        "outputId": "d7347463-4c62-48dc-f6dd-61dd3a12f827"
      },
      "execution_count": null,
      "outputs": [
        {
          "name": "stdout",
          "output_type": "stream",
          "text": [
            "Enter initial text:qwerty\n",
            "Enter final text:qwrety\n"
          ]
        }
      ]
    },
    {
      "cell_type": "code",
      "source": [
        "distance, operation = edit_distance(s1,s2)\n",
        "insertions,deletions,substitutions = 0,0,0\n",
        "for i in operation:\n",
        "  if i == \"insertion\":\n",
        "    insertions += 1\n",
        "  elif i == \"deletion\":\n",
        "    deletions += 1\n",
        "  elif i == \"substitution\":\n",
        "    substitutions += 1"
      ],
      "metadata": {
        "colab": {
          "base_uri": "https://localhost:8080/",
          "height": 332
        },
        "id": "Bq7BGiduepcb",
        "outputId": "db03155d-1431-4d71-fb96-90e42ad1a734"
      },
      "execution_count": null,
      "outputs": [
        {
          "output_type": "error",
          "ename": "IndexError",
          "evalue": "string index out of range",
          "traceback": [
            "\u001b[0;31m---------------------------------------------------------------------------\u001b[0m",
            "\u001b[0;31mIndexError\u001b[0m                                Traceback (most recent call last)",
            "\u001b[0;32m<ipython-input-15-4c259226e00f>\u001b[0m in \u001b[0;36m<cell line: 1>\u001b[0;34m()\u001b[0m\n\u001b[0;32m----> 1\u001b[0;31m \u001b[0mdistance\u001b[0m\u001b[0;34m,\u001b[0m \u001b[0moperation\u001b[0m \u001b[0;34m=\u001b[0m \u001b[0medit_distance\u001b[0m\u001b[0;34m(\u001b[0m\u001b[0ms1\u001b[0m\u001b[0;34m,\u001b[0m\u001b[0ms2\u001b[0m\u001b[0;34m)\u001b[0m\u001b[0;34m\u001b[0m\u001b[0;34m\u001b[0m\u001b[0m\n\u001b[0m\u001b[1;32m      2\u001b[0m \u001b[0minsertions\u001b[0m\u001b[0;34m,\u001b[0m\u001b[0mdeletions\u001b[0m\u001b[0;34m,\u001b[0m\u001b[0msubstitutions\u001b[0m \u001b[0;34m=\u001b[0m \u001b[0;36m0\u001b[0m\u001b[0;34m,\u001b[0m\u001b[0;36m0\u001b[0m\u001b[0;34m,\u001b[0m\u001b[0;36m0\u001b[0m\u001b[0;34m\u001b[0m\u001b[0;34m\u001b[0m\u001b[0m\n\u001b[1;32m      3\u001b[0m \u001b[0;32mfor\u001b[0m \u001b[0mi\u001b[0m \u001b[0;32min\u001b[0m \u001b[0moperation\u001b[0m\u001b[0;34m:\u001b[0m\u001b[0;34m\u001b[0m\u001b[0;34m\u001b[0m\u001b[0m\n\u001b[1;32m      4\u001b[0m   \u001b[0;32mif\u001b[0m \u001b[0mi\u001b[0m \u001b[0;34m==\u001b[0m \u001b[0;34m\"insertion\"\u001b[0m\u001b[0;34m:\u001b[0m\u001b[0;34m\u001b[0m\u001b[0;34m\u001b[0m\u001b[0m\n\u001b[1;32m      5\u001b[0m     \u001b[0minsertions\u001b[0m \u001b[0;34m+=\u001b[0m \u001b[0;36m1\u001b[0m\u001b[0;34m\u001b[0m\u001b[0;34m\u001b[0m\u001b[0m\n",
            "\u001b[0;32m<ipython-input-12-f63b216e7576>\u001b[0m in \u001b[0;36medit_distance\u001b[0;34m(s1, s2)\u001b[0m\n\u001b[1;32m     15\u001b[0m   \u001b[0moperation\u001b[0m \u001b[0;34m=\u001b[0m \u001b[0;34m[\u001b[0m\u001b[0;34m]\u001b[0m\u001b[0;34m\u001b[0m\u001b[0;34m\u001b[0m\u001b[0m\n\u001b[1;32m     16\u001b[0m   \u001b[0;32mwhile\u001b[0m\u001b[0;34m(\u001b[0m\u001b[0mi\u001b[0m \u001b[0;34m!=\u001b[0m \u001b[0;36m0\u001b[0m \u001b[0;32mand\u001b[0m \u001b[0mj\u001b[0m \u001b[0;34m!=\u001b[0m \u001b[0;36m0\u001b[0m\u001b[0;34m)\u001b[0m\u001b[0;34m:\u001b[0m\u001b[0;34m\u001b[0m\u001b[0;34m\u001b[0m\u001b[0m\n\u001b[0;32m---> 17\u001b[0;31m     \u001b[0;32mif\u001b[0m \u001b[0ms2\u001b[0m\u001b[0;34m[\u001b[0m\u001b[0mi\u001b[0m\u001b[0;34m-\u001b[0m\u001b[0;36m1\u001b[0m\u001b[0;34m]\u001b[0m \u001b[0;34m==\u001b[0m \u001b[0ms1\u001b[0m\u001b[0;34m[\u001b[0m\u001b[0mj\u001b[0m\u001b[0;34m-\u001b[0m\u001b[0;36m1\u001b[0m\u001b[0;34m]\u001b[0m\u001b[0;34m:\u001b[0m\u001b[0;34m\u001b[0m\u001b[0;34m\u001b[0m\u001b[0m\n\u001b[0m\u001b[1;32m     18\u001b[0m       \u001b[0mi\u001b[0m \u001b[0;34m-=\u001b[0m \u001b[0;36m1\u001b[0m\u001b[0;34m\u001b[0m\u001b[0;34m\u001b[0m\u001b[0m\n\u001b[1;32m     19\u001b[0m       \u001b[0mj\u001b[0m \u001b[0;34m-=\u001b[0m \u001b[0;36m1\u001b[0m\u001b[0;34m\u001b[0m\u001b[0;34m\u001b[0m\u001b[0m\n",
            "\u001b[0;31mIndexError\u001b[0m: string index out of range"
          ]
        }
      ]
    },
    {
      "cell_type": "code",
      "source": [
        "#printing result\n",
        "print(f\"Minimum Edit Distance:{distance}\")\n",
        "print(f\"Number of insertions:{insertions}\")\n",
        "print(f\"Number of deletions:{deletions}\")\n",
        "print(f\"Number of substitutions:{substitutions}\")\n",
        "print(f\"Operations: {operation}\")\n",
        "print(\"Actual Operations :\")\n",
        "for i in range(len()) :\n",
        "\n",
        "        if operation[i][0] == 'INSERT' :\n",
        "            print(\"{}) {} : {}\".format(i + 1, operation[i][0], operation[i][1]))\n",
        "        elif operation[i][0] == 'DELETE' :\n",
        "            print(\"{}) {} : {}\".format(i + 1, operation[i][0], operation[i][1]))\n",
        "        else :\n",
        "            print(\"{}) {} : {} by {}\".format(i + 1, operation[i][0], operation[i][1], operation[i][2]))"
      ],
      "metadata": {
        "id": "PggX2x84Pkb1"
      },
      "execution_count": null,
      "outputs": []
    }
  ]
}